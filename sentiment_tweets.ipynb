{
 "cells": [
  {
   "cell_type": "code",
   "execution_count": 1,
   "metadata": {},
   "outputs": [],
   "source": [
    "import pandas as pd\n",
    "import numpy as np"
   ]
  },
  {
   "cell_type": "code",
   "execution_count": 2,
   "metadata": {},
   "outputs": [],
   "source": [
    "data = pd.read_csv(\"sentiment_tweets.csv\")"
   ]
  },
  {
   "cell_type": "code",
   "execution_count": 3,
   "metadata": {},
   "outputs": [
    {
     "data": {
      "text/html": [
       "<div>\n",
       "<style scoped>\n",
       "    .dataframe tbody tr th:only-of-type {\n",
       "        vertical-align: middle;\n",
       "    }\n",
       "\n",
       "    .dataframe tbody tr th {\n",
       "        vertical-align: top;\n",
       "    }\n",
       "\n",
       "    .dataframe thead th {\n",
       "        text-align: right;\n",
       "    }\n",
       "</style>\n",
       "<table border=\"1\" class=\"dataframe\">\n",
       "  <thead>\n",
       "    <tr style=\"text-align: right;\">\n",
       "      <th></th>\n",
       "      <th>Index</th>\n",
       "      <th>message to examine</th>\n",
       "      <th>label (depression result)</th>\n",
       "    </tr>\n",
       "  </thead>\n",
       "  <tbody>\n",
       "    <tr>\n",
       "      <th>0</th>\n",
       "      <td>106</td>\n",
       "      <td>just had a real good moment. i missssssssss hi...</td>\n",
       "      <td>0</td>\n",
       "    </tr>\n",
       "    <tr>\n",
       "      <th>1</th>\n",
       "      <td>217</td>\n",
       "      <td>is reading manga  http://plurk.com/p/mzp1e</td>\n",
       "      <td>0</td>\n",
       "    </tr>\n",
       "    <tr>\n",
       "      <th>2</th>\n",
       "      <td>220</td>\n",
       "      <td>@comeagainjen http://twitpic.com/2y2lx - http:...</td>\n",
       "      <td>0</td>\n",
       "    </tr>\n",
       "    <tr>\n",
       "      <th>3</th>\n",
       "      <td>288</td>\n",
       "      <td>@lapcat Need to send 'em to my accountant tomo...</td>\n",
       "      <td>0</td>\n",
       "    </tr>\n",
       "    <tr>\n",
       "      <th>4</th>\n",
       "      <td>540</td>\n",
       "      <td>ADD ME ON MYSPACE!!!  myspace.com/LookThunder</td>\n",
       "      <td>0</td>\n",
       "    </tr>\n",
       "  </tbody>\n",
       "</table>\n",
       "</div>"
      ],
      "text/plain": [
       "   Index                                 message to examine  \\\n",
       "0    106  just had a real good moment. i missssssssss hi...   \n",
       "1    217         is reading manga  http://plurk.com/p/mzp1e   \n",
       "2    220  @comeagainjen http://twitpic.com/2y2lx - http:...   \n",
       "3    288  @lapcat Need to send 'em to my accountant tomo...   \n",
       "4    540      ADD ME ON MYSPACE!!!  myspace.com/LookThunder   \n",
       "\n",
       "   label (depression result)  \n",
       "0                          0  \n",
       "1                          0  \n",
       "2                          0  \n",
       "3                          0  \n",
       "4                          0  "
      ]
     },
     "execution_count": 3,
     "metadata": {},
     "output_type": "execute_result"
    }
   ],
   "source": [
    "data.head()"
   ]
  },
  {
   "cell_type": "code",
   "execution_count": 4,
   "metadata": {},
   "outputs": [
    {
     "data": {
      "text/plain": [
       "0    8000\n",
       "1    2314\n",
       "Name: label (depression result), dtype: int64"
      ]
     },
     "execution_count": 4,
     "metadata": {},
     "output_type": "execute_result"
    }
   ],
   "source": [
    "data[\"label (depression result)\"].value_counts()"
   ]
  },
  {
   "cell_type": "code",
   "execution_count": 5,
   "metadata": {},
   "outputs": [
    {
     "data": {
      "text/html": [
       "<div>\n",
       "<style scoped>\n",
       "    .dataframe tbody tr th:only-of-type {\n",
       "        vertical-align: middle;\n",
       "    }\n",
       "\n",
       "    .dataframe tbody tr th {\n",
       "        vertical-align: top;\n",
       "    }\n",
       "\n",
       "    .dataframe thead th {\n",
       "        text-align: right;\n",
       "    }\n",
       "</style>\n",
       "<table border=\"1\" class=\"dataframe\">\n",
       "  <thead>\n",
       "    <tr style=\"text-align: right;\">\n",
       "      <th></th>\n",
       "      <th>Index</th>\n",
       "      <th>message to examine</th>\n",
       "      <th>label (depression result)</th>\n",
       "    </tr>\n",
       "  </thead>\n",
       "  <tbody>\n",
       "    <tr>\n",
       "      <th>10309</th>\n",
       "      <td>802309</td>\n",
       "      <td>No Depression by G Herbo is my mood from now o...</td>\n",
       "      <td>1</td>\n",
       "    </tr>\n",
       "    <tr>\n",
       "      <th>10310</th>\n",
       "      <td>802310</td>\n",
       "      <td>What do you do when depression succumbs the br...</td>\n",
       "      <td>1</td>\n",
       "    </tr>\n",
       "    <tr>\n",
       "      <th>10311</th>\n",
       "      <td>802311</td>\n",
       "      <td>Ketamine Nasal Spray Shows Promise Against Dep...</td>\n",
       "      <td>1</td>\n",
       "    </tr>\n",
       "    <tr>\n",
       "      <th>10312</th>\n",
       "      <td>802312</td>\n",
       "      <td>dont mistake a bad day with depression! everyo...</td>\n",
       "      <td>1</td>\n",
       "    </tr>\n",
       "    <tr>\n",
       "      <th>10313</th>\n",
       "      <td>802313</td>\n",
       "      <td>0</td>\n",
       "      <td>1</td>\n",
       "    </tr>\n",
       "  </tbody>\n",
       "</table>\n",
       "</div>"
      ],
      "text/plain": [
       "        Index                                 message to examine  \\\n",
       "10309  802309  No Depression by G Herbo is my mood from now o...   \n",
       "10310  802310  What do you do when depression succumbs the br...   \n",
       "10311  802311  Ketamine Nasal Spray Shows Promise Against Dep...   \n",
       "10312  802312  dont mistake a bad day with depression! everyo...   \n",
       "10313  802313                                                  0   \n",
       "\n",
       "       label (depression result)  \n",
       "10309                          1  \n",
       "10310                          1  \n",
       "10311                          1  \n",
       "10312                          1  \n",
       "10313                          1  "
      ]
     },
     "execution_count": 5,
     "metadata": {},
     "output_type": "execute_result"
    }
   ],
   "source": [
    "data.tail()"
   ]
  },
  {
   "cell_type": "code",
   "execution_count": 8,
   "metadata": {},
   "outputs": [
    {
     "data": {
      "text/plain": [
       "'@comeagainjen http://twitpic.com/2y2lx - http://www.youtube.com/watch?v=zoGfqvh2ME8 '"
      ]
     },
     "execution_count": 8,
     "metadata": {},
     "output_type": "execute_result"
    }
   ],
   "source": [
    "data.loc[2]['message to examine']"
   ]
  },
  {
   "cell_type": "code",
   "execution_count": 10,
   "metadata": {},
   "outputs": [
    {
     "data": {
      "text/plain": [
       "\"No Depression by G Herbo is my mood from now on, i'm done stressing over people that don't deserve it\""
      ]
     },
     "execution_count": 10,
     "metadata": {},
     "output_type": "execute_result"
    }
   ],
   "source": [
    "data.loc[10309]['message to examine']"
   ]
  },
  {
   "cell_type": "code",
   "execution_count": 11,
   "metadata": {},
   "outputs": [
    {
     "data": {
      "text/plain": [
       "Index                        0\n",
       "message to examine           0\n",
       "label (depression result)    0\n",
       "dtype: int64"
      ]
     },
     "execution_count": 11,
     "metadata": {},
     "output_type": "execute_result"
    }
   ],
   "source": [
    "data.isnull().sum()"
   ]
  },
  {
   "cell_type": "code",
   "execution_count": 12,
   "metadata": {},
   "outputs": [],
   "source": [
    "data.drop([\"Index\"], axis = 1, inplace = True)"
   ]
  },
  {
   "cell_type": "code",
   "execution_count": 13,
   "metadata": {},
   "outputs": [
    {
     "data": {
      "text/html": [
       "<div>\n",
       "<style scoped>\n",
       "    .dataframe tbody tr th:only-of-type {\n",
       "        vertical-align: middle;\n",
       "    }\n",
       "\n",
       "    .dataframe tbody tr th {\n",
       "        vertical-align: top;\n",
       "    }\n",
       "\n",
       "    .dataframe thead th {\n",
       "        text-align: right;\n",
       "    }\n",
       "</style>\n",
       "<table border=\"1\" class=\"dataframe\">\n",
       "  <thead>\n",
       "    <tr style=\"text-align: right;\">\n",
       "      <th></th>\n",
       "      <th>message to examine</th>\n",
       "      <th>label (depression result)</th>\n",
       "    </tr>\n",
       "  </thead>\n",
       "  <tbody>\n",
       "    <tr>\n",
       "      <th>0</th>\n",
       "      <td>just had a real good moment. i missssssssss hi...</td>\n",
       "      <td>0</td>\n",
       "    </tr>\n",
       "    <tr>\n",
       "      <th>1</th>\n",
       "      <td>is reading manga  http://plurk.com/p/mzp1e</td>\n",
       "      <td>0</td>\n",
       "    </tr>\n",
       "    <tr>\n",
       "      <th>2</th>\n",
       "      <td>@comeagainjen http://twitpic.com/2y2lx - http:...</td>\n",
       "      <td>0</td>\n",
       "    </tr>\n",
       "    <tr>\n",
       "      <th>3</th>\n",
       "      <td>@lapcat Need to send 'em to my accountant tomo...</td>\n",
       "      <td>0</td>\n",
       "    </tr>\n",
       "    <tr>\n",
       "      <th>4</th>\n",
       "      <td>ADD ME ON MYSPACE!!!  myspace.com/LookThunder</td>\n",
       "      <td>0</td>\n",
       "    </tr>\n",
       "  </tbody>\n",
       "</table>\n",
       "</div>"
      ],
      "text/plain": [
       "                                  message to examine  \\\n",
       "0  just had a real good moment. i missssssssss hi...   \n",
       "1         is reading manga  http://plurk.com/p/mzp1e   \n",
       "2  @comeagainjen http://twitpic.com/2y2lx - http:...   \n",
       "3  @lapcat Need to send 'em to my accountant tomo...   \n",
       "4      ADD ME ON MYSPACE!!!  myspace.com/LookThunder   \n",
       "\n",
       "   label (depression result)  \n",
       "0                          0  \n",
       "1                          0  \n",
       "2                          0  \n",
       "3                          0  \n",
       "4                          0  "
      ]
     },
     "execution_count": 13,
     "metadata": {},
     "output_type": "execute_result"
    }
   ],
   "source": [
    "data.head()"
   ]
  },
  {
   "cell_type": "code",
   "execution_count": 16,
   "metadata": {},
   "outputs": [],
   "source": [
    "# Check if there is any number\n",
    "for i in data[\"message to examine\"]:\n",
    "    for j in i.split():\n",
    "    if j.isdigit():\n",
    "      numb = \"yes\"\n",
    "    else:\n",
    "      numb = \"no\""
   ]
  },
  {
   "cell_type": "code",
   "execution_count": 17,
   "metadata": {},
   "outputs": [
    {
     "name": "stdout",
     "output_type": "stream",
     "text": [
      "yes\n"
     ]
    }
   ],
   "source": [
    "print(numb)"
   ]
  },
  {
   "cell_type": "code",
   "execution_count": 18,
   "metadata": {},
   "outputs": [],
   "source": [
    "import re"
   ]
  },
  {
   "cell_type": "code",
   "execution_count": 19,
   "metadata": {},
   "outputs": [],
   "source": [
    "# Removal of numbers\n",
    "def remove_numbers(text):\n",
    "    return ' '.join([i for i in str(text).split() if not i.isdigit()])"
   ]
  },
  {
   "cell_type": "code",
   "execution_count": 20,
   "metadata": {},
   "outputs": [],
   "source": [
    "data[\"clean_text\"] = data[\"message to examine\"].apply(lambda x: remove_numbers(x))"
   ]
  },
  {
   "cell_type": "code",
   "execution_count": 21,
   "metadata": {},
   "outputs": [
    {
     "data": {
      "text/html": [
       "<div>\n",
       "<style scoped>\n",
       "    .dataframe tbody tr th:only-of-type {\n",
       "        vertical-align: middle;\n",
       "    }\n",
       "\n",
       "    .dataframe tbody tr th {\n",
       "        vertical-align: top;\n",
       "    }\n",
       "\n",
       "    .dataframe thead th {\n",
       "        text-align: right;\n",
       "    }\n",
       "</style>\n",
       "<table border=\"1\" class=\"dataframe\">\n",
       "  <thead>\n",
       "    <tr style=\"text-align: right;\">\n",
       "      <th></th>\n",
       "      <th>message to examine</th>\n",
       "      <th>label (depression result)</th>\n",
       "      <th>clean_text</th>\n",
       "    </tr>\n",
       "  </thead>\n",
       "  <tbody>\n",
       "    <tr>\n",
       "      <th>0</th>\n",
       "      <td>just had a real good moment. i missssssssss hi...</td>\n",
       "      <td>0</td>\n",
       "      <td>just had a real good moment. i missssssssss hi...</td>\n",
       "    </tr>\n",
       "    <tr>\n",
       "      <th>1</th>\n",
       "      <td>is reading manga  http://plurk.com/p/mzp1e</td>\n",
       "      <td>0</td>\n",
       "      <td>is reading manga http://plurk.com/p/mzp1e</td>\n",
       "    </tr>\n",
       "    <tr>\n",
       "      <th>2</th>\n",
       "      <td>@comeagainjen http://twitpic.com/2y2lx - http:...</td>\n",
       "      <td>0</td>\n",
       "      <td>@comeagainjen http://twitpic.com/2y2lx - http:...</td>\n",
       "    </tr>\n",
       "    <tr>\n",
       "      <th>3</th>\n",
       "      <td>@lapcat Need to send 'em to my accountant tomo...</td>\n",
       "      <td>0</td>\n",
       "      <td>@lapcat Need to send 'em to my accountant tomo...</td>\n",
       "    </tr>\n",
       "    <tr>\n",
       "      <th>4</th>\n",
       "      <td>ADD ME ON MYSPACE!!!  myspace.com/LookThunder</td>\n",
       "      <td>0</td>\n",
       "      <td>ADD ME ON MYSPACE!!! myspace.com/LookThunder</td>\n",
       "    </tr>\n",
       "    <tr>\n",
       "      <th>...</th>\n",
       "      <td>...</td>\n",
       "      <td>...</td>\n",
       "      <td>...</td>\n",
       "    </tr>\n",
       "    <tr>\n",
       "      <th>10309</th>\n",
       "      <td>No Depression by G Herbo is my mood from now o...</td>\n",
       "      <td>1</td>\n",
       "      <td>No Depression by G Herbo is my mood from now o...</td>\n",
       "    </tr>\n",
       "    <tr>\n",
       "      <th>10310</th>\n",
       "      <td>What do you do when depression succumbs the br...</td>\n",
       "      <td>1</td>\n",
       "      <td>What do you do when depression succumbs the br...</td>\n",
       "    </tr>\n",
       "    <tr>\n",
       "      <th>10311</th>\n",
       "      <td>Ketamine Nasal Spray Shows Promise Against Dep...</td>\n",
       "      <td>1</td>\n",
       "      <td>Ketamine Nasal Spray Shows Promise Against Dep...</td>\n",
       "    </tr>\n",
       "    <tr>\n",
       "      <th>10312</th>\n",
       "      <td>dont mistake a bad day with depression! everyo...</td>\n",
       "      <td>1</td>\n",
       "      <td>dont mistake a bad day with depression! everyo...</td>\n",
       "    </tr>\n",
       "    <tr>\n",
       "      <th>10313</th>\n",
       "      <td>0</td>\n",
       "      <td>1</td>\n",
       "      <td></td>\n",
       "    </tr>\n",
       "  </tbody>\n",
       "</table>\n",
       "<p>10314 rows × 3 columns</p>\n",
       "</div>"
      ],
      "text/plain": [
       "                                      message to examine  \\\n",
       "0      just had a real good moment. i missssssssss hi...   \n",
       "1             is reading manga  http://plurk.com/p/mzp1e   \n",
       "2      @comeagainjen http://twitpic.com/2y2lx - http:...   \n",
       "3      @lapcat Need to send 'em to my accountant tomo...   \n",
       "4          ADD ME ON MYSPACE!!!  myspace.com/LookThunder   \n",
       "...                                                  ...   \n",
       "10309  No Depression by G Herbo is my mood from now o...   \n",
       "10310  What do you do when depression succumbs the br...   \n",
       "10311  Ketamine Nasal Spray Shows Promise Against Dep...   \n",
       "10312  dont mistake a bad day with depression! everyo...   \n",
       "10313                                                  0   \n",
       "\n",
       "       label (depression result)  \\\n",
       "0                              0   \n",
       "1                              0   \n",
       "2                              0   \n",
       "3                              0   \n",
       "4                              0   \n",
       "...                          ...   \n",
       "10309                          1   \n",
       "10310                          1   \n",
       "10311                          1   \n",
       "10312                          1   \n",
       "10313                          1   \n",
       "\n",
       "                                              clean_text  \n",
       "0      just had a real good moment. i missssssssss hi...  \n",
       "1              is reading manga http://plurk.com/p/mzp1e  \n",
       "2      @comeagainjen http://twitpic.com/2y2lx - http:...  \n",
       "3      @lapcat Need to send 'em to my accountant tomo...  \n",
       "4           ADD ME ON MYSPACE!!! myspace.com/LookThunder  \n",
       "...                                                  ...  \n",
       "10309  No Depression by G Herbo is my mood from now o...  \n",
       "10310  What do you do when depression succumbs the br...  \n",
       "10311  Ketamine Nasal Spray Shows Promise Against Dep...  \n",
       "10312  dont mistake a bad day with depression! everyo...  \n",
       "10313                                                     \n",
       "\n",
       "[10314 rows x 3 columns]"
      ]
     },
     "execution_count": 21,
     "metadata": {},
     "output_type": "execute_result"
    }
   ],
   "source": [
    "data"
   ]
  },
  {
   "cell_type": "code",
   "execution_count": 22,
   "metadata": {},
   "outputs": [],
   "source": [
    "# Removal of Weblinks\n",
    "def remove_weblinks(text):\n",
    "    return re.sub(r\"http\\S+\", \"\", text)"
   ]
  },
  {
   "cell_type": "code",
   "execution_count": 23,
   "metadata": {},
   "outputs": [],
   "source": [
    "data['clean_text1'] = data['clean_text'].apply(lambda x: remove_weblinks(x))"
   ]
  },
  {
   "cell_type": "code",
   "execution_count": 24,
   "metadata": {},
   "outputs": [
    {
     "data": {
      "text/html": [
       "<div>\n",
       "<style scoped>\n",
       "    .dataframe tbody tr th:only-of-type {\n",
       "        vertical-align: middle;\n",
       "    }\n",
       "\n",
       "    .dataframe tbody tr th {\n",
       "        vertical-align: top;\n",
       "    }\n",
       "\n",
       "    .dataframe thead th {\n",
       "        text-align: right;\n",
       "    }\n",
       "</style>\n",
       "<table border=\"1\" class=\"dataframe\">\n",
       "  <thead>\n",
       "    <tr style=\"text-align: right;\">\n",
       "      <th></th>\n",
       "      <th>message to examine</th>\n",
       "      <th>label (depression result)</th>\n",
       "      <th>clean_text</th>\n",
       "      <th>clean_text1</th>\n",
       "    </tr>\n",
       "  </thead>\n",
       "  <tbody>\n",
       "    <tr>\n",
       "      <th>0</th>\n",
       "      <td>just had a real good moment. i missssssssss hi...</td>\n",
       "      <td>0</td>\n",
       "      <td>just had a real good moment. i missssssssss hi...</td>\n",
       "      <td>just had a real good moment. i missssssssss hi...</td>\n",
       "    </tr>\n",
       "    <tr>\n",
       "      <th>1</th>\n",
       "      <td>is reading manga  http://plurk.com/p/mzp1e</td>\n",
       "      <td>0</td>\n",
       "      <td>is reading manga http://plurk.com/p/mzp1e</td>\n",
       "      <td>is reading manga</td>\n",
       "    </tr>\n",
       "    <tr>\n",
       "      <th>2</th>\n",
       "      <td>@comeagainjen http://twitpic.com/2y2lx - http:...</td>\n",
       "      <td>0</td>\n",
       "      <td>@comeagainjen http://twitpic.com/2y2lx - http:...</td>\n",
       "      <td>@comeagainjen  -</td>\n",
       "    </tr>\n",
       "    <tr>\n",
       "      <th>3</th>\n",
       "      <td>@lapcat Need to send 'em to my accountant tomo...</td>\n",
       "      <td>0</td>\n",
       "      <td>@lapcat Need to send 'em to my accountant tomo...</td>\n",
       "      <td>@lapcat Need to send 'em to my accountant tomo...</td>\n",
       "    </tr>\n",
       "    <tr>\n",
       "      <th>4</th>\n",
       "      <td>ADD ME ON MYSPACE!!!  myspace.com/LookThunder</td>\n",
       "      <td>0</td>\n",
       "      <td>ADD ME ON MYSPACE!!! myspace.com/LookThunder</td>\n",
       "      <td>ADD ME ON MYSPACE!!! myspace.com/LookThunder</td>\n",
       "    </tr>\n",
       "  </tbody>\n",
       "</table>\n",
       "</div>"
      ],
      "text/plain": [
       "                                  message to examine  \\\n",
       "0  just had a real good moment. i missssssssss hi...   \n",
       "1         is reading manga  http://plurk.com/p/mzp1e   \n",
       "2  @comeagainjen http://twitpic.com/2y2lx - http:...   \n",
       "3  @lapcat Need to send 'em to my accountant tomo...   \n",
       "4      ADD ME ON MYSPACE!!!  myspace.com/LookThunder   \n",
       "\n",
       "   label (depression result)  \\\n",
       "0                          0   \n",
       "1                          0   \n",
       "2                          0   \n",
       "3                          0   \n",
       "4                          0   \n",
       "\n",
       "                                          clean_text  \\\n",
       "0  just had a real good moment. i missssssssss hi...   \n",
       "1          is reading manga http://plurk.com/p/mzp1e   \n",
       "2  @comeagainjen http://twitpic.com/2y2lx - http:...   \n",
       "3  @lapcat Need to send 'em to my accountant tomo...   \n",
       "4       ADD ME ON MYSPACE!!! myspace.com/LookThunder   \n",
       "\n",
       "                                         clean_text1  \n",
       "0  just had a real good moment. i missssssssss hi...  \n",
       "1                                  is reading manga   \n",
       "2                                  @comeagainjen  -   \n",
       "3  @lapcat Need to send 'em to my accountant tomo...  \n",
       "4       ADD ME ON MYSPACE!!! myspace.com/LookThunder  "
      ]
     },
     "execution_count": 24,
     "metadata": {},
     "output_type": "execute_result"
    }
   ],
   "source": [
    "data.head()"
   ]
  },
  {
   "cell_type": "code",
   "execution_count": 25,
   "metadata": {},
   "outputs": [
    {
     "data": {
      "text/plain": [
       "'@comeagainjen  - '"
      ]
     },
     "execution_count": 25,
     "metadata": {},
     "output_type": "execute_result"
    }
   ],
   "source": [
    "data.loc[2][\"clean_text1\"]"
   ]
  },
  {
   "cell_type": "code",
   "execution_count": 26,
   "metadata": {},
   "outputs": [],
   "source": [
    "#Lowercasing the tweets\n",
    "data['clean_text1'] = data['clean_text1'].str.lower()"
   ]
  },
  {
   "cell_type": "code",
   "execution_count": 27,
   "metadata": {},
   "outputs": [
    {
     "data": {
      "text/html": [
       "<div>\n",
       "<style scoped>\n",
       "    .dataframe tbody tr th:only-of-type {\n",
       "        vertical-align: middle;\n",
       "    }\n",
       "\n",
       "    .dataframe tbody tr th {\n",
       "        vertical-align: top;\n",
       "    }\n",
       "\n",
       "    .dataframe thead th {\n",
       "        text-align: right;\n",
       "    }\n",
       "</style>\n",
       "<table border=\"1\" class=\"dataframe\">\n",
       "  <thead>\n",
       "    <tr style=\"text-align: right;\">\n",
       "      <th></th>\n",
       "      <th>message to examine</th>\n",
       "      <th>label (depression result)</th>\n",
       "      <th>clean_text</th>\n",
       "      <th>clean_text1</th>\n",
       "    </tr>\n",
       "  </thead>\n",
       "  <tbody>\n",
       "    <tr>\n",
       "      <th>0</th>\n",
       "      <td>just had a real good moment. i missssssssss hi...</td>\n",
       "      <td>0</td>\n",
       "      <td>just had a real good moment. i missssssssss hi...</td>\n",
       "      <td>just had a real good moment. i missssssssss hi...</td>\n",
       "    </tr>\n",
       "    <tr>\n",
       "      <th>1</th>\n",
       "      <td>is reading manga  http://plurk.com/p/mzp1e</td>\n",
       "      <td>0</td>\n",
       "      <td>is reading manga http://plurk.com/p/mzp1e</td>\n",
       "      <td>is reading manga</td>\n",
       "    </tr>\n",
       "    <tr>\n",
       "      <th>2</th>\n",
       "      <td>@comeagainjen http://twitpic.com/2y2lx - http:...</td>\n",
       "      <td>0</td>\n",
       "      <td>@comeagainjen http://twitpic.com/2y2lx - http:...</td>\n",
       "      <td>@comeagainjen  -</td>\n",
       "    </tr>\n",
       "    <tr>\n",
       "      <th>3</th>\n",
       "      <td>@lapcat Need to send 'em to my accountant tomo...</td>\n",
       "      <td>0</td>\n",
       "      <td>@lapcat Need to send 'em to my accountant tomo...</td>\n",
       "      <td>@lapcat need to send 'em to my accountant tomo...</td>\n",
       "    </tr>\n",
       "    <tr>\n",
       "      <th>4</th>\n",
       "      <td>ADD ME ON MYSPACE!!!  myspace.com/LookThunder</td>\n",
       "      <td>0</td>\n",
       "      <td>ADD ME ON MYSPACE!!! myspace.com/LookThunder</td>\n",
       "      <td>add me on myspace!!! myspace.com/lookthunder</td>\n",
       "    </tr>\n",
       "  </tbody>\n",
       "</table>\n",
       "</div>"
      ],
      "text/plain": [
       "                                  message to examine  \\\n",
       "0  just had a real good moment. i missssssssss hi...   \n",
       "1         is reading manga  http://plurk.com/p/mzp1e   \n",
       "2  @comeagainjen http://twitpic.com/2y2lx - http:...   \n",
       "3  @lapcat Need to send 'em to my accountant tomo...   \n",
       "4      ADD ME ON MYSPACE!!!  myspace.com/LookThunder   \n",
       "\n",
       "   label (depression result)  \\\n",
       "0                          0   \n",
       "1                          0   \n",
       "2                          0   \n",
       "3                          0   \n",
       "4                          0   \n",
       "\n",
       "                                          clean_text  \\\n",
       "0  just had a real good moment. i missssssssss hi...   \n",
       "1          is reading manga http://plurk.com/p/mzp1e   \n",
       "2  @comeagainjen http://twitpic.com/2y2lx - http:...   \n",
       "3  @lapcat Need to send 'em to my accountant tomo...   \n",
       "4       ADD ME ON MYSPACE!!! myspace.com/LookThunder   \n",
       "\n",
       "                                         clean_text1  \n",
       "0  just had a real good moment. i missssssssss hi...  \n",
       "1                                  is reading manga   \n",
       "2                                  @comeagainjen  -   \n",
       "3  @lapcat need to send 'em to my accountant tomo...  \n",
       "4       add me on myspace!!! myspace.com/lookthunder  "
      ]
     },
     "execution_count": 27,
     "metadata": {},
     "output_type": "execute_result"
    }
   ],
   "source": [
    "data.head()"
   ]
  },
  {
   "cell_type": "code",
   "execution_count": 28,
   "metadata": {},
   "outputs": [],
   "source": [
    "# Removal of Twitter mentions\n",
    "def remove_twitter(text):\n",
    "    return re.sub('@[\\w]+','',text)"
   ]
  },
  {
   "cell_type": "code",
   "execution_count": 29,
   "metadata": {},
   "outputs": [],
   "source": [
    "data['clean_text2'] = data['clean_text1'].apply(lambda x: remove_twitter(x))"
   ]
  },
  {
   "cell_type": "code",
   "execution_count": 30,
   "metadata": {},
   "outputs": [
    {
     "data": {
      "text/html": [
       "<div>\n",
       "<style scoped>\n",
       "    .dataframe tbody tr th:only-of-type {\n",
       "        vertical-align: middle;\n",
       "    }\n",
       "\n",
       "    .dataframe tbody tr th {\n",
       "        vertical-align: top;\n",
       "    }\n",
       "\n",
       "    .dataframe thead th {\n",
       "        text-align: right;\n",
       "    }\n",
       "</style>\n",
       "<table border=\"1\" class=\"dataframe\">\n",
       "  <thead>\n",
       "    <tr style=\"text-align: right;\">\n",
       "      <th></th>\n",
       "      <th>message to examine</th>\n",
       "      <th>label (depression result)</th>\n",
       "      <th>clean_text</th>\n",
       "      <th>clean_text1</th>\n",
       "      <th>clean_text2</th>\n",
       "    </tr>\n",
       "  </thead>\n",
       "  <tbody>\n",
       "    <tr>\n",
       "      <th>0</th>\n",
       "      <td>just had a real good moment. i missssssssss hi...</td>\n",
       "      <td>0</td>\n",
       "      <td>just had a real good moment. i missssssssss hi...</td>\n",
       "      <td>just had a real good moment. i missssssssss hi...</td>\n",
       "      <td>just had a real good moment. i missssssssss hi...</td>\n",
       "    </tr>\n",
       "    <tr>\n",
       "      <th>1</th>\n",
       "      <td>is reading manga  http://plurk.com/p/mzp1e</td>\n",
       "      <td>0</td>\n",
       "      <td>is reading manga http://plurk.com/p/mzp1e</td>\n",
       "      <td>is reading manga</td>\n",
       "      <td>is reading manga</td>\n",
       "    </tr>\n",
       "    <tr>\n",
       "      <th>2</th>\n",
       "      <td>@comeagainjen http://twitpic.com/2y2lx - http:...</td>\n",
       "      <td>0</td>\n",
       "      <td>@comeagainjen http://twitpic.com/2y2lx - http:...</td>\n",
       "      <td>@comeagainjen  -</td>\n",
       "      <td>-</td>\n",
       "    </tr>\n",
       "    <tr>\n",
       "      <th>3</th>\n",
       "      <td>@lapcat Need to send 'em to my accountant tomo...</td>\n",
       "      <td>0</td>\n",
       "      <td>@lapcat Need to send 'em to my accountant tomo...</td>\n",
       "      <td>@lapcat need to send 'em to my accountant tomo...</td>\n",
       "      <td>need to send 'em to my accountant tomorrow. o...</td>\n",
       "    </tr>\n",
       "    <tr>\n",
       "      <th>4</th>\n",
       "      <td>ADD ME ON MYSPACE!!!  myspace.com/LookThunder</td>\n",
       "      <td>0</td>\n",
       "      <td>ADD ME ON MYSPACE!!! myspace.com/LookThunder</td>\n",
       "      <td>add me on myspace!!! myspace.com/lookthunder</td>\n",
       "      <td>add me on myspace!!! myspace.com/lookthunder</td>\n",
       "    </tr>\n",
       "  </tbody>\n",
       "</table>\n",
       "</div>"
      ],
      "text/plain": [
       "                                  message to examine  \\\n",
       "0  just had a real good moment. i missssssssss hi...   \n",
       "1         is reading manga  http://plurk.com/p/mzp1e   \n",
       "2  @comeagainjen http://twitpic.com/2y2lx - http:...   \n",
       "3  @lapcat Need to send 'em to my accountant tomo...   \n",
       "4      ADD ME ON MYSPACE!!!  myspace.com/LookThunder   \n",
       "\n",
       "   label (depression result)  \\\n",
       "0                          0   \n",
       "1                          0   \n",
       "2                          0   \n",
       "3                          0   \n",
       "4                          0   \n",
       "\n",
       "                                          clean_text  \\\n",
       "0  just had a real good moment. i missssssssss hi...   \n",
       "1          is reading manga http://plurk.com/p/mzp1e   \n",
       "2  @comeagainjen http://twitpic.com/2y2lx - http:...   \n",
       "3  @lapcat Need to send 'em to my accountant tomo...   \n",
       "4       ADD ME ON MYSPACE!!! myspace.com/LookThunder   \n",
       "\n",
       "                                         clean_text1  \\\n",
       "0  just had a real good moment. i missssssssss hi...   \n",
       "1                                  is reading manga    \n",
       "2                                  @comeagainjen  -    \n",
       "3  @lapcat need to send 'em to my accountant tomo...   \n",
       "4       add me on myspace!!! myspace.com/lookthunder   \n",
       "\n",
       "                                         clean_text2  \n",
       "0  just had a real good moment. i missssssssss hi...  \n",
       "1                                  is reading manga   \n",
       "2                                                 -   \n",
       "3   need to send 'em to my accountant tomorrow. o...  \n",
       "4       add me on myspace!!! myspace.com/lookthunder  "
      ]
     },
     "execution_count": 30,
     "metadata": {},
     "output_type": "execute_result"
    }
   ],
   "source": [
    "data.head()"
   ]
  },
  {
   "cell_type": "code",
   "execution_count": 31,
   "metadata": {},
   "outputs": [],
   "source": [
    "import nltk"
   ]
  },
  {
   "cell_type": "code",
   "execution_count": 32,
   "metadata": {},
   "outputs": [
    {
     "name": "stderr",
     "output_type": "stream",
     "text": [
      "[nltk_data] Downloading package punkt to\n",
      "[nltk_data]     C:\\Users\\SABEER\\AppData\\Roaming\\nltk_data...\n",
      "[nltk_data]   Package punkt is already up-to-date!\n"
     ]
    },
    {
     "data": {
      "text/plain": [
       "True"
      ]
     },
     "execution_count": 32,
     "metadata": {},
     "output_type": "execute_result"
    }
   ],
   "source": [
    "nltk.download('punkt')"
   ]
  },
  {
   "cell_type": "code",
   "execution_count": 33,
   "metadata": {},
   "outputs": [],
   "source": [
    "from nltk.corpus import stopwords \n",
    "from nltk.tokenize import word_tokenize \n",
    "from nltk.stem import PorterStemmer\n",
    "from nltk.stem import WordNetLemmatizer\n",
    "#from nltk.tokenize import RegexpTokenizer\n",
    "\n",
    "from sklearn.feature_extraction.text import TfidfVectorizer\n",
    "from sklearn.feature_extraction.text import CountVectorizer\n",
    "import string"
   ]
  },
  {
   "cell_type": "code",
   "execution_count": 34,
   "metadata": {},
   "outputs": [],
   "source": [
    "#Removal of punctuations\n",
    "def remove_punc(string_input):\n",
    "    try:\n",
    "        no_punc = \"\".join([char for char in string_input if char not in string.punctuation])\n",
    "    except:\n",
    "        print(string_input)\n",
    "    return no_punc"
   ]
  },
  {
   "cell_type": "code",
   "execution_count": 36,
   "metadata": {},
   "outputs": [],
   "source": [
    "data['clean_text3'] = data.clean_text2.apply(remove_punc)"
   ]
  },
  {
   "cell_type": "code",
   "execution_count": 37,
   "metadata": {},
   "outputs": [
    {
     "data": {
      "text/plain": [
       "0    just had a real good moment i missssssssss him...\n",
       "1                                    is reading manga \n",
       "2                                                     \n",
       "3     need to send em to my accountant tomorrow odd...\n",
       "4              add me on myspace myspacecomlookthunder\n",
       "Name: clean_text3, dtype: object"
      ]
     },
     "execution_count": 37,
     "metadata": {},
     "output_type": "execute_result"
    }
   ],
   "source": [
    "data['clean_text3'].head()"
   ]
  },
  {
   "cell_type": "code",
   "execution_count": 38,
   "metadata": {},
   "outputs": [],
   "source": [
    "#Removal of Stopwords\n",
    "stopword_master = stopwords.words('english')\n",
    "data['clean_text4'] = data['clean_text3'].apply(lambda x: \" \".join([word for word in x.split() if not word in stopword_master]))"
   ]
  },
  {
   "cell_type": "code",
   "execution_count": 39,
   "metadata": {},
   "outputs": [
    {
     "data": {
      "text/plain": [
       "0                   real good moment missssssssss much\n",
       "1                                        reading manga\n",
       "2                                                     \n",
       "3    need send em accountant tomorrow oddly wasnt e...\n",
       "4                    add myspace myspacecomlookthunder\n",
       "Name: clean_text4, dtype: object"
      ]
     },
     "execution_count": 39,
     "metadata": {},
     "output_type": "execute_result"
    }
   ],
   "source": [
    "data['clean_text4'].head()"
   ]
  },
  {
   "cell_type": "code",
   "execution_count": 40,
   "metadata": {},
   "outputs": [],
   "source": [
    "#Stemming of words\n",
    "stemmer = PorterStemmer()\n",
    "def stemmer_func(sent):\n",
    "    final = \" \".join([stemmer.stem(word) for word in sent.split()])\n",
    "    return final"
   ]
  },
  {
   "cell_type": "code",
   "execution_count": 41,
   "metadata": {},
   "outputs": [],
   "source": [
    "data['clean_stem_word'] = data.clean_text4.apply(stemmer_func)"
   ]
  },
  {
   "cell_type": "code",
   "execution_count": 42,
   "metadata": {},
   "outputs": [
    {
     "data": {
      "text/plain": [
       "0                   real good moment missssssssss much\n",
       "1                                           read manga\n",
       "2                                                     \n",
       "3    need send em account tomorrow oddli wasnt even...\n",
       "4                       add myspac myspacecomlookthund\n",
       "Name: clean_stem_word, dtype: object"
      ]
     },
     "execution_count": 42,
     "metadata": {},
     "output_type": "execute_result"
    }
   ],
   "source": [
    "data['clean_stem_word'].head()"
   ]
  },
  {
   "cell_type": "code",
   "execution_count": 43,
   "metadata": {},
   "outputs": [],
   "source": [
    "#Replacing some short words\n",
    "short_words = {\n",
    "\"aint\": \"am not\",\n",
    "\"arent\": \"are not\",\n",
    "\"cant\": \"cannot\",\n",
    "\"'cause\": \"because\",\n",
    "\"couldve\": \"could have\",\n",
    "\"couldnt\": \"could not\",\n",
    "\"didnt\": \"did not\",\n",
    "\"doesnt\": \"does not\",\n",
    "\"dont\": \"do not\",\n",
    "\"hadnt\": \"had not\",\n",
    "\"hasnt\": \"has not\",\n",
    "\"havent\": \"have not\",\n",
    "\"im\": \"I am\",\n",
    "\"em\": \"them\",\n",
    "\"ive\": \"I have\",\n",
    "\"isnt\": \"is not\",\n",
    "\"lets\": \"let us\",\n",
    "\"theyre\": \"they are\",\n",
    "\"theyve\": \"they have\",\n",
    "\"wasnt\": \"was not\",\n",
    "\"well\": \"we will\",\n",
    "\"were\": \"we are\",\n",
    "\"werent\": \"were not\",\n",
    "\"you're\": \"you are\",\n",
    "\"you've\": \"you have\"\n",
    "}"
   ]
  },
  {
   "cell_type": "code",
   "execution_count": 50,
   "metadata": {},
   "outputs": [],
   "source": [
    "def replace_short_words(text):\n",
    "    for word in text.split():\n",
    "        if word in short_words:\n",
    "            text = text.replace(word, short_words[word])\n",
    "    return text"
   ]
  },
  {
   "cell_type": "code",
   "execution_count": 52,
   "metadata": {},
   "outputs": [],
   "source": [
    "data[\"clean_tweets\"] = data['clean_stem_word'].apply(lambda text: replace_short_words(text))"
   ]
  },
  {
   "cell_type": "code",
   "execution_count": 53,
   "metadata": {},
   "outputs": [
    {
     "data": {
      "text/plain": [
       "0                   real good moment missssssssss much\n",
       "1                                           read manga\n",
       "2                                                     \n",
       "3    need send them account tomorrow oddli was not ...\n",
       "4                       add myspac myspacecomlookthund\n",
       "Name: clean_tweets, dtype: object"
      ]
     },
     "execution_count": 53,
     "metadata": {},
     "output_type": "execute_result"
    }
   ],
   "source": [
    "data[\"clean_tweets\"].head()"
   ]
  },
  {
   "cell_type": "code",
   "execution_count": 54,
   "metadata": {},
   "outputs": [
    {
     "data": {
      "text/html": [
       "<div>\n",
       "<style scoped>\n",
       "    .dataframe tbody tr th:only-of-type {\n",
       "        vertical-align: middle;\n",
       "    }\n",
       "\n",
       "    .dataframe tbody tr th {\n",
       "        vertical-align: top;\n",
       "    }\n",
       "\n",
       "    .dataframe thead th {\n",
       "        text-align: right;\n",
       "    }\n",
       "</style>\n",
       "<table border=\"1\" class=\"dataframe\">\n",
       "  <thead>\n",
       "    <tr style=\"text-align: right;\">\n",
       "      <th></th>\n",
       "      <th>message to examine</th>\n",
       "      <th>label (depression result)</th>\n",
       "      <th>clean_text</th>\n",
       "      <th>clean_text1</th>\n",
       "      <th>clean_text2</th>\n",
       "      <th>clean_text3</th>\n",
       "      <th>clean_text4</th>\n",
       "      <th>clean_stem_word</th>\n",
       "      <th>clean_tweets</th>\n",
       "    </tr>\n",
       "  </thead>\n",
       "  <tbody>\n",
       "    <tr>\n",
       "      <th>0</th>\n",
       "      <td>just had a real good moment. i missssssssss hi...</td>\n",
       "      <td>0</td>\n",
       "      <td>just had a real good moment. i missssssssss hi...</td>\n",
       "      <td>just had a real good moment. i missssssssss hi...</td>\n",
       "      <td>just had a real good moment. i missssssssss hi...</td>\n",
       "      <td>just had a real good moment i missssssssss him...</td>\n",
       "      <td>real good moment missssssssss much</td>\n",
       "      <td>real good moment missssssssss much</td>\n",
       "      <td>real good moment missssssssss much</td>\n",
       "    </tr>\n",
       "    <tr>\n",
       "      <th>1</th>\n",
       "      <td>is reading manga  http://plurk.com/p/mzp1e</td>\n",
       "      <td>0</td>\n",
       "      <td>is reading manga http://plurk.com/p/mzp1e</td>\n",
       "      <td>is reading manga</td>\n",
       "      <td>is reading manga</td>\n",
       "      <td>is reading manga</td>\n",
       "      <td>reading manga</td>\n",
       "      <td>read manga</td>\n",
       "      <td>read manga</td>\n",
       "    </tr>\n",
       "    <tr>\n",
       "      <th>2</th>\n",
       "      <td>@comeagainjen http://twitpic.com/2y2lx - http:...</td>\n",
       "      <td>0</td>\n",
       "      <td>@comeagainjen http://twitpic.com/2y2lx - http:...</td>\n",
       "      <td>@comeagainjen  -</td>\n",
       "      <td>-</td>\n",
       "      <td></td>\n",
       "      <td></td>\n",
       "      <td></td>\n",
       "      <td></td>\n",
       "    </tr>\n",
       "    <tr>\n",
       "      <th>3</th>\n",
       "      <td>@lapcat Need to send 'em to my accountant tomo...</td>\n",
       "      <td>0</td>\n",
       "      <td>@lapcat Need to send 'em to my accountant tomo...</td>\n",
       "      <td>@lapcat need to send 'em to my accountant tomo...</td>\n",
       "      <td>need to send 'em to my accountant tomorrow. o...</td>\n",
       "      <td>need to send em to my accountant tomorrow odd...</td>\n",
       "      <td>need send em accountant tomorrow oddly wasnt e...</td>\n",
       "      <td>need send em account tomorrow oddli wasnt even...</td>\n",
       "      <td>need send them account tomorrow oddli was not ...</td>\n",
       "    </tr>\n",
       "    <tr>\n",
       "      <th>4</th>\n",
       "      <td>ADD ME ON MYSPACE!!!  myspace.com/LookThunder</td>\n",
       "      <td>0</td>\n",
       "      <td>ADD ME ON MYSPACE!!! myspace.com/LookThunder</td>\n",
       "      <td>add me on myspace!!! myspace.com/lookthunder</td>\n",
       "      <td>add me on myspace!!! myspace.com/lookthunder</td>\n",
       "      <td>add me on myspace myspacecomlookthunder</td>\n",
       "      <td>add myspace myspacecomlookthunder</td>\n",
       "      <td>add myspac myspacecomlookthund</td>\n",
       "      <td>add myspac myspacecomlookthund</td>\n",
       "    </tr>\n",
       "    <tr>\n",
       "      <th>...</th>\n",
       "      <td>...</td>\n",
       "      <td>...</td>\n",
       "      <td>...</td>\n",
       "      <td>...</td>\n",
       "      <td>...</td>\n",
       "      <td>...</td>\n",
       "      <td>...</td>\n",
       "      <td>...</td>\n",
       "      <td>...</td>\n",
       "    </tr>\n",
       "    <tr>\n",
       "      <th>10309</th>\n",
       "      <td>No Depression by G Herbo is my mood from now o...</td>\n",
       "      <td>1</td>\n",
       "      <td>No Depression by G Herbo is my mood from now o...</td>\n",
       "      <td>no depression by g herbo is my mood from now o...</td>\n",
       "      <td>no depression by g herbo is my mood from now o...</td>\n",
       "      <td>no depression by g herbo is my mood from now o...</td>\n",
       "      <td>depression g herbo mood im done stressing peop...</td>\n",
       "      <td>depress g herbo mood im done stress peopl dont...</td>\n",
       "      <td>depress g herbo mood I am done stress peopl do...</td>\n",
       "    </tr>\n",
       "    <tr>\n",
       "      <th>10310</th>\n",
       "      <td>What do you do when depression succumbs the br...</td>\n",
       "      <td>1</td>\n",
       "      <td>What do you do when depression succumbs the br...</td>\n",
       "      <td>what do you do when depression succumbs the br...</td>\n",
       "      <td>what do you do when depression succumbs the br...</td>\n",
       "      <td>what do you do when depression succumbs the br...</td>\n",
       "      <td>depression succumbs brain makes feel like youl...</td>\n",
       "      <td>depress succumb brain make feel like youll nev...</td>\n",
       "      <td>depress succumb brain make feel like youll nev...</td>\n",
       "    </tr>\n",
       "    <tr>\n",
       "      <th>10311</th>\n",
       "      <td>Ketamine Nasal Spray Shows Promise Against Dep...</td>\n",
       "      <td>1</td>\n",
       "      <td>Ketamine Nasal Spray Shows Promise Against Dep...</td>\n",
       "      <td>ketamine nasal spray shows promise against dep...</td>\n",
       "      <td>ketamine nasal spray shows promise against dep...</td>\n",
       "      <td>ketamine nasal spray shows promise against dep...</td>\n",
       "      <td>ketamine nasal spray shows promise depression ...</td>\n",
       "      <td>ketamin nasal spray show promis depress suicid...</td>\n",
       "      <td>ketamin nasal spray show promis depress suicid...</td>\n",
       "    </tr>\n",
       "    <tr>\n",
       "      <th>10312</th>\n",
       "      <td>dont mistake a bad day with depression! everyo...</td>\n",
       "      <td>1</td>\n",
       "      <td>dont mistake a bad day with depression! everyo...</td>\n",
       "      <td>dont mistake a bad day with depression! everyo...</td>\n",
       "      <td>dont mistake a bad day with depression! everyo...</td>\n",
       "      <td>dont mistake a bad day with depression everyon...</td>\n",
       "      <td>dont mistake bad day depression everyone em</td>\n",
       "      <td>dont mistak bad day depress everyon em</td>\n",
       "      <td>do not mistak bad day depress everyon them</td>\n",
       "    </tr>\n",
       "    <tr>\n",
       "      <th>10313</th>\n",
       "      <td>0</td>\n",
       "      <td>1</td>\n",
       "      <td></td>\n",
       "      <td></td>\n",
       "      <td></td>\n",
       "      <td></td>\n",
       "      <td></td>\n",
       "      <td></td>\n",
       "      <td></td>\n",
       "    </tr>\n",
       "  </tbody>\n",
       "</table>\n",
       "<p>10314 rows × 9 columns</p>\n",
       "</div>"
      ],
      "text/plain": [
       "                                      message to examine  \\\n",
       "0      just had a real good moment. i missssssssss hi...   \n",
       "1             is reading manga  http://plurk.com/p/mzp1e   \n",
       "2      @comeagainjen http://twitpic.com/2y2lx - http:...   \n",
       "3      @lapcat Need to send 'em to my accountant tomo...   \n",
       "4          ADD ME ON MYSPACE!!!  myspace.com/LookThunder   \n",
       "...                                                  ...   \n",
       "10309  No Depression by G Herbo is my mood from now o...   \n",
       "10310  What do you do when depression succumbs the br...   \n",
       "10311  Ketamine Nasal Spray Shows Promise Against Dep...   \n",
       "10312  dont mistake a bad day with depression! everyo...   \n",
       "10313                                                  0   \n",
       "\n",
       "       label (depression result)  \\\n",
       "0                              0   \n",
       "1                              0   \n",
       "2                              0   \n",
       "3                              0   \n",
       "4                              0   \n",
       "...                          ...   \n",
       "10309                          1   \n",
       "10310                          1   \n",
       "10311                          1   \n",
       "10312                          1   \n",
       "10313                          1   \n",
       "\n",
       "                                              clean_text  \\\n",
       "0      just had a real good moment. i missssssssss hi...   \n",
       "1              is reading manga http://plurk.com/p/mzp1e   \n",
       "2      @comeagainjen http://twitpic.com/2y2lx - http:...   \n",
       "3      @lapcat Need to send 'em to my accountant tomo...   \n",
       "4           ADD ME ON MYSPACE!!! myspace.com/LookThunder   \n",
       "...                                                  ...   \n",
       "10309  No Depression by G Herbo is my mood from now o...   \n",
       "10310  What do you do when depression succumbs the br...   \n",
       "10311  Ketamine Nasal Spray Shows Promise Against Dep...   \n",
       "10312  dont mistake a bad day with depression! everyo...   \n",
       "10313                                                      \n",
       "\n",
       "                                             clean_text1  \\\n",
       "0      just had a real good moment. i missssssssss hi...   \n",
       "1                                      is reading manga    \n",
       "2                                      @comeagainjen  -    \n",
       "3      @lapcat need to send 'em to my accountant tomo...   \n",
       "4           add me on myspace!!! myspace.com/lookthunder   \n",
       "...                                                  ...   \n",
       "10309  no depression by g herbo is my mood from now o...   \n",
       "10310  what do you do when depression succumbs the br...   \n",
       "10311  ketamine nasal spray shows promise against dep...   \n",
       "10312  dont mistake a bad day with depression! everyo...   \n",
       "10313                                                      \n",
       "\n",
       "                                             clean_text2  \\\n",
       "0      just had a real good moment. i missssssssss hi...   \n",
       "1                                      is reading manga    \n",
       "2                                                     -    \n",
       "3       need to send 'em to my accountant tomorrow. o...   \n",
       "4           add me on myspace!!! myspace.com/lookthunder   \n",
       "...                                                  ...   \n",
       "10309  no depression by g herbo is my mood from now o...   \n",
       "10310  what do you do when depression succumbs the br...   \n",
       "10311  ketamine nasal spray shows promise against dep...   \n",
       "10312  dont mistake a bad day with depression! everyo...   \n",
       "10313                                                      \n",
       "\n",
       "                                             clean_text3  \\\n",
       "0      just had a real good moment i missssssssss him...   \n",
       "1                                      is reading manga    \n",
       "2                                                          \n",
       "3       need to send em to my accountant tomorrow odd...   \n",
       "4                add me on myspace myspacecomlookthunder   \n",
       "...                                                  ...   \n",
       "10309  no depression by g herbo is my mood from now o...   \n",
       "10310  what do you do when depression succumbs the br...   \n",
       "10311  ketamine nasal spray shows promise against dep...   \n",
       "10312  dont mistake a bad day with depression everyon...   \n",
       "10313                                                      \n",
       "\n",
       "                                             clean_text4  \\\n",
       "0                     real good moment missssssssss much   \n",
       "1                                          reading manga   \n",
       "2                                                          \n",
       "3      need send em accountant tomorrow oddly wasnt e...   \n",
       "4                      add myspace myspacecomlookthunder   \n",
       "...                                                  ...   \n",
       "10309  depression g herbo mood im done stressing peop...   \n",
       "10310  depression succumbs brain makes feel like youl...   \n",
       "10311  ketamine nasal spray shows promise depression ...   \n",
       "10312        dont mistake bad day depression everyone em   \n",
       "10313                                                      \n",
       "\n",
       "                                         clean_stem_word  \\\n",
       "0                     real good moment missssssssss much   \n",
       "1                                             read manga   \n",
       "2                                                          \n",
       "3      need send em account tomorrow oddli wasnt even...   \n",
       "4                         add myspac myspacecomlookthund   \n",
       "...                                                  ...   \n",
       "10309  depress g herbo mood im done stress peopl dont...   \n",
       "10310  depress succumb brain make feel like youll nev...   \n",
       "10311  ketamin nasal spray show promis depress suicid...   \n",
       "10312             dont mistak bad day depress everyon em   \n",
       "10313                                                      \n",
       "\n",
       "                                            clean_tweets  \n",
       "0                     real good moment missssssssss much  \n",
       "1                                             read manga  \n",
       "2                                                         \n",
       "3      need send them account tomorrow oddli was not ...  \n",
       "4                         add myspac myspacecomlookthund  \n",
       "...                                                  ...  \n",
       "10309  depress g herbo mood I am done stress peopl do...  \n",
       "10310  depress succumb brain make feel like youll nev...  \n",
       "10311  ketamin nasal spray show promis depress suicid...  \n",
       "10312         do not mistak bad day depress everyon them  \n",
       "10313                                                     \n",
       "\n",
       "[10314 rows x 9 columns]"
      ]
     },
     "execution_count": 54,
     "metadata": {},
     "output_type": "execute_result"
    }
   ],
   "source": [
    "data"
   ]
  },
  {
   "cell_type": "code",
   "execution_count": 56,
   "metadata": {},
   "outputs": [
    {
     "data": {
      "text/plain": [
       "Index(['message to examine', 'label (depression result)', 'clean_text',\n",
       "       'clean_text1', 'clean_text2', 'clean_text3', 'clean_text4',\n",
       "       'clean_stem_word', 'clean_tweets'],\n",
       "      dtype='object')"
      ]
     },
     "execution_count": 56,
     "metadata": {},
     "output_type": "execute_result"
    }
   ],
   "source": [
    "data.columns"
   ]
  },
  {
   "cell_type": "code",
   "execution_count": 58,
   "metadata": {},
   "outputs": [],
   "source": [
    "#Dropping unwanted columns\n",
    "data.drop(['message to examine', 'clean_text', 'clean_text1', 'clean_text2', 'clean_text3', 'clean_text4', 'clean_stem_word'], axis = 1, inplace = True)"
   ]
  },
  {
   "cell_type": "code",
   "execution_count": 59,
   "metadata": {},
   "outputs": [
    {
     "data": {
      "text/html": [
       "<div>\n",
       "<style scoped>\n",
       "    .dataframe tbody tr th:only-of-type {\n",
       "        vertical-align: middle;\n",
       "    }\n",
       "\n",
       "    .dataframe tbody tr th {\n",
       "        vertical-align: top;\n",
       "    }\n",
       "\n",
       "    .dataframe thead th {\n",
       "        text-align: right;\n",
       "    }\n",
       "</style>\n",
       "<table border=\"1\" class=\"dataframe\">\n",
       "  <thead>\n",
       "    <tr style=\"text-align: right;\">\n",
       "      <th></th>\n",
       "      <th>label (depression result)</th>\n",
       "      <th>clean_tweets</th>\n",
       "    </tr>\n",
       "  </thead>\n",
       "  <tbody>\n",
       "    <tr>\n",
       "      <th>0</th>\n",
       "      <td>0</td>\n",
       "      <td>real good moment missssssssss much</td>\n",
       "    </tr>\n",
       "    <tr>\n",
       "      <th>1</th>\n",
       "      <td>0</td>\n",
       "      <td>read manga</td>\n",
       "    </tr>\n",
       "    <tr>\n",
       "      <th>2</th>\n",
       "      <td>0</td>\n",
       "      <td></td>\n",
       "    </tr>\n",
       "    <tr>\n",
       "      <th>3</th>\n",
       "      <td>0</td>\n",
       "      <td>need send them account tomorrow oddli was not ...</td>\n",
       "    </tr>\n",
       "    <tr>\n",
       "      <th>4</th>\n",
       "      <td>0</td>\n",
       "      <td>add myspac myspacecomlookthund</td>\n",
       "    </tr>\n",
       "  </tbody>\n",
       "</table>\n",
       "</div>"
      ],
      "text/plain": [
       "   label (depression result)  \\\n",
       "0                          0   \n",
       "1                          0   \n",
       "2                          0   \n",
       "3                          0   \n",
       "4                          0   \n",
       "\n",
       "                                        clean_tweets  \n",
       "0                 real good moment missssssssss much  \n",
       "1                                         read manga  \n",
       "2                                                     \n",
       "3  need send them account tomorrow oddli was not ...  \n",
       "4                     add myspac myspacecomlookthund  "
      ]
     },
     "execution_count": 59,
     "metadata": {},
     "output_type": "execute_result"
    }
   ],
   "source": [
    "data.head()"
   ]
  },
  {
   "cell_type": "code",
   "execution_count": 60,
   "metadata": {},
   "outputs": [
    {
     "data": {
      "text/plain": [
       "(10314, 2)"
      ]
     },
     "execution_count": 60,
     "metadata": {},
     "output_type": "execute_result"
    }
   ],
   "source": [
    "data.shape"
   ]
  },
  {
   "cell_type": "code",
   "execution_count": 61,
   "metadata": {},
   "outputs": [],
   "source": [
    "#Text Preprocessing\n",
    "from sklearn.feature_extraction.text import TfidfVectorizer\n",
    "\n",
    "vect = TfidfVectorizer(max_features=10000, ngram_range  = (1,2), max_df = .95, min_df = 4)\n",
    "\n",
    "vect.fit(data['clean_tweets'])\n",
    "\n",
    "sparse = vect.transform(data['clean_tweets'])"
   ]
  },
  {
   "cell_type": "code",
   "execution_count": 62,
   "metadata": {},
   "outputs": [
    {
     "data": {
      "text/plain": [
       "<10314x3854 sparse matrix of type '<class 'numpy.float64'>'\n",
       "\twith 78734 stored elements in Compressed Sparse Row format>"
      ]
     },
     "execution_count": 62,
     "metadata": {},
     "output_type": "execute_result"
    }
   ],
   "source": [
    "sparse"
   ]
  },
  {
   "cell_type": "code",
   "execution_count": 63,
   "metadata": {},
   "outputs": [],
   "source": [
    "spare_pd = sparse.toarray()"
   ]
  },
  {
   "cell_type": "code",
   "execution_count": 64,
   "metadata": {},
   "outputs": [],
   "source": [
    "finaldata = pd.DataFrame(spare_pd)"
   ]
  },
  {
   "cell_type": "code",
   "execution_count": 65,
   "metadata": {},
   "outputs": [
    {
     "data": {
      "text/html": [
       "<div>\n",
       "<style scoped>\n",
       "    .dataframe tbody tr th:only-of-type {\n",
       "        vertical-align: middle;\n",
       "    }\n",
       "\n",
       "    .dataframe tbody tr th {\n",
       "        vertical-align: top;\n",
       "    }\n",
       "\n",
       "    .dataframe thead th {\n",
       "        text-align: right;\n",
       "    }\n",
       "</style>\n",
       "<table border=\"1\" class=\"dataframe\">\n",
       "  <thead>\n",
       "    <tr style=\"text-align: right;\">\n",
       "      <th></th>\n",
       "      <th>0</th>\n",
       "      <th>1</th>\n",
       "      <th>2</th>\n",
       "      <th>3</th>\n",
       "      <th>4</th>\n",
       "      <th>5</th>\n",
       "      <th>6</th>\n",
       "      <th>7</th>\n",
       "      <th>8</th>\n",
       "      <th>9</th>\n",
       "      <th>...</th>\n",
       "      <th>3844</th>\n",
       "      <th>3845</th>\n",
       "      <th>3846</th>\n",
       "      <th>3847</th>\n",
       "      <th>3848</th>\n",
       "      <th>3849</th>\n",
       "      <th>3850</th>\n",
       "      <th>3851</th>\n",
       "      <th>3852</th>\n",
       "      <th>3853</th>\n",
       "    </tr>\n",
       "  </thead>\n",
       "  <tbody>\n",
       "    <tr>\n",
       "      <th>0</th>\n",
       "      <td>0.0</td>\n",
       "      <td>0.0</td>\n",
       "      <td>0.0</td>\n",
       "      <td>0.0</td>\n",
       "      <td>0.0</td>\n",
       "      <td>0.0</td>\n",
       "      <td>0.0</td>\n",
       "      <td>0.0</td>\n",
       "      <td>0.0</td>\n",
       "      <td>0.0</td>\n",
       "      <td>...</td>\n",
       "      <td>0.0</td>\n",
       "      <td>0.0</td>\n",
       "      <td>0.0</td>\n",
       "      <td>0.0</td>\n",
       "      <td>0.0</td>\n",
       "      <td>0.0</td>\n",
       "      <td>0.0</td>\n",
       "      <td>0.0</td>\n",
       "      <td>0.0</td>\n",
       "      <td>0.0</td>\n",
       "    </tr>\n",
       "    <tr>\n",
       "      <th>1</th>\n",
       "      <td>0.0</td>\n",
       "      <td>0.0</td>\n",
       "      <td>0.0</td>\n",
       "      <td>0.0</td>\n",
       "      <td>0.0</td>\n",
       "      <td>0.0</td>\n",
       "      <td>0.0</td>\n",
       "      <td>0.0</td>\n",
       "      <td>0.0</td>\n",
       "      <td>0.0</td>\n",
       "      <td>...</td>\n",
       "      <td>0.0</td>\n",
       "      <td>0.0</td>\n",
       "      <td>0.0</td>\n",
       "      <td>0.0</td>\n",
       "      <td>0.0</td>\n",
       "      <td>0.0</td>\n",
       "      <td>0.0</td>\n",
       "      <td>0.0</td>\n",
       "      <td>0.0</td>\n",
       "      <td>0.0</td>\n",
       "    </tr>\n",
       "    <tr>\n",
       "      <th>2</th>\n",
       "      <td>0.0</td>\n",
       "      <td>0.0</td>\n",
       "      <td>0.0</td>\n",
       "      <td>0.0</td>\n",
       "      <td>0.0</td>\n",
       "      <td>0.0</td>\n",
       "      <td>0.0</td>\n",
       "      <td>0.0</td>\n",
       "      <td>0.0</td>\n",
       "      <td>0.0</td>\n",
       "      <td>...</td>\n",
       "      <td>0.0</td>\n",
       "      <td>0.0</td>\n",
       "      <td>0.0</td>\n",
       "      <td>0.0</td>\n",
       "      <td>0.0</td>\n",
       "      <td>0.0</td>\n",
       "      <td>0.0</td>\n",
       "      <td>0.0</td>\n",
       "      <td>0.0</td>\n",
       "      <td>0.0</td>\n",
       "    </tr>\n",
       "    <tr>\n",
       "      <th>3</th>\n",
       "      <td>0.0</td>\n",
       "      <td>0.0</td>\n",
       "      <td>0.0</td>\n",
       "      <td>0.0</td>\n",
       "      <td>0.0</td>\n",
       "      <td>0.0</td>\n",
       "      <td>0.0</td>\n",
       "      <td>0.0</td>\n",
       "      <td>0.0</td>\n",
       "      <td>0.0</td>\n",
       "      <td>...</td>\n",
       "      <td>0.0</td>\n",
       "      <td>0.0</td>\n",
       "      <td>0.0</td>\n",
       "      <td>0.0</td>\n",
       "      <td>0.0</td>\n",
       "      <td>0.0</td>\n",
       "      <td>0.0</td>\n",
       "      <td>0.0</td>\n",
       "      <td>0.0</td>\n",
       "      <td>0.0</td>\n",
       "    </tr>\n",
       "    <tr>\n",
       "      <th>4</th>\n",
       "      <td>0.0</td>\n",
       "      <td>0.0</td>\n",
       "      <td>0.0</td>\n",
       "      <td>0.0</td>\n",
       "      <td>0.0</td>\n",
       "      <td>0.0</td>\n",
       "      <td>0.0</td>\n",
       "      <td>0.0</td>\n",
       "      <td>0.0</td>\n",
       "      <td>0.0</td>\n",
       "      <td>...</td>\n",
       "      <td>0.0</td>\n",
       "      <td>0.0</td>\n",
       "      <td>0.0</td>\n",
       "      <td>0.0</td>\n",
       "      <td>0.0</td>\n",
       "      <td>0.0</td>\n",
       "      <td>0.0</td>\n",
       "      <td>0.0</td>\n",
       "      <td>0.0</td>\n",
       "      <td>0.0</td>\n",
       "    </tr>\n",
       "  </tbody>\n",
       "</table>\n",
       "<p>5 rows × 3854 columns</p>\n",
       "</div>"
      ],
      "text/plain": [
       "   0     1     2     3     4     5     6     7     8     9     ...  3844  \\\n",
       "0   0.0   0.0   0.0   0.0   0.0   0.0   0.0   0.0   0.0   0.0  ...   0.0   \n",
       "1   0.0   0.0   0.0   0.0   0.0   0.0   0.0   0.0   0.0   0.0  ...   0.0   \n",
       "2   0.0   0.0   0.0   0.0   0.0   0.0   0.0   0.0   0.0   0.0  ...   0.0   \n",
       "3   0.0   0.0   0.0   0.0   0.0   0.0   0.0   0.0   0.0   0.0  ...   0.0   \n",
       "4   0.0   0.0   0.0   0.0   0.0   0.0   0.0   0.0   0.0   0.0  ...   0.0   \n",
       "\n",
       "   3845  3846  3847  3848  3849  3850  3851  3852  3853  \n",
       "0   0.0   0.0   0.0   0.0   0.0   0.0   0.0   0.0   0.0  \n",
       "1   0.0   0.0   0.0   0.0   0.0   0.0   0.0   0.0   0.0  \n",
       "2   0.0   0.0   0.0   0.0   0.0   0.0   0.0   0.0   0.0  \n",
       "3   0.0   0.0   0.0   0.0   0.0   0.0   0.0   0.0   0.0  \n",
       "4   0.0   0.0   0.0   0.0   0.0   0.0   0.0   0.0   0.0  \n",
       "\n",
       "[5 rows x 3854 columns]"
      ]
     },
     "execution_count": 65,
     "metadata": {},
     "output_type": "execute_result"
    }
   ],
   "source": [
    "finaldata.head()"
   ]
  },
  {
   "cell_type": "code",
   "execution_count": null,
   "metadata": {},
   "outputs": [],
   "source": [
    "#Splitting Dataset\n",
    "from sklearn.model_selection import train_test_split"
   ]
  },
  {
   "cell_type": "code",
   "execution_count": 72,
   "metadata": {},
   "outputs": [],
   "source": [
    "train_X, test_X, train_y, test_y = train_test_split(finaldata, data['label (depression result)'], test_size = 0.2, random_state = 12121)"
   ]
  },
  {
   "cell_type": "code",
   "execution_count": 73,
   "metadata": {},
   "outputs": [],
   "source": [
    "#Model and Evaluation\n",
    "from sklearn.ensemble import RandomForestClassifier\n",
    "from sklearn.model_selection import GridSearchCV"
   ]
  },
  {
   "cell_type": "code",
   "execution_count": 74,
   "metadata": {},
   "outputs": [],
   "source": [
    "RFC_model = RandomForestClassifier()\n",
    "param_grid = {\"n_estimators\" : [25,50,75,100], \"max_depth\" : [20,30,40], \"criterion\" : [\"gini\", \"entropy\"]}"
   ]
  },
  {
   "cell_type": "code",
   "execution_count": 75,
   "metadata": {},
   "outputs": [],
   "source": [
    "GSCV = GridSearchCV(estimator= RFC_model, param_grid = param_grid,  n_jobs = -1, verbose =3)"
   ]
  },
  {
   "cell_type": "code",
   "execution_count": 76,
   "metadata": {},
   "outputs": [
    {
     "name": "stdout",
     "output_type": "stream",
     "text": [
      "Fitting 5 folds for each of 24 candidates, totalling 120 fits\n"
     ]
    },
    {
     "name": "stderr",
     "output_type": "stream",
     "text": [
      "[Parallel(n_jobs=-1)]: Using backend LokyBackend with 4 concurrent workers.\n",
      "[Parallel(n_jobs=-1)]: Done  24 tasks      | elapsed:  8.1min\n",
      "[Parallel(n_jobs=-1)]: Done 120 out of 120 | elapsed: 50.2min finished\n"
     ]
    },
    {
     "data": {
      "text/plain": [
       "GridSearchCV(estimator=RandomForestClassifier(), n_jobs=-1,\n",
       "             param_grid={'criterion': ['gini', 'entropy'],\n",
       "                         'max_depth': [20, 30, 40],\n",
       "                         'n_estimators': [25, 50, 75, 100]},\n",
       "             verbose=3)"
      ]
     },
     "execution_count": 76,
     "metadata": {},
     "output_type": "execute_result"
    }
   ],
   "source": [
    "GSCV.fit(train_X, train_y)"
   ]
  },
  {
   "cell_type": "code",
   "execution_count": 77,
   "metadata": {},
   "outputs": [
    {
     "data": {
      "text/plain": [
       "RandomForestClassifier(criterion='entropy', max_depth=40)"
      ]
     },
     "execution_count": 77,
     "metadata": {},
     "output_type": "execute_result"
    }
   ],
   "source": [
    "GSCV.best_estimator_"
   ]
  },
  {
   "cell_type": "code",
   "execution_count": 82,
   "metadata": {},
   "outputs": [],
   "source": [
    "RFC_GSCV_model = RandomForestClassifier(criterion='entropy', max_depth=40)"
   ]
  },
  {
   "cell_type": "code",
   "execution_count": 83,
   "metadata": {},
   "outputs": [
    {
     "data": {
      "text/plain": [
       "RandomForestClassifier(criterion='entropy', max_depth=40)"
      ]
     },
     "execution_count": 83,
     "metadata": {},
     "output_type": "execute_result"
    }
   ],
   "source": [
    "RFC_GSCV_model.fit(train_X, train_y)"
   ]
  },
  {
   "cell_type": "code",
   "execution_count": 84,
   "metadata": {},
   "outputs": [],
   "source": [
    "RFC_GSCV_model_pred = RFC_GSCV_model.predict(test_X)"
   ]
  },
  {
   "cell_type": "code",
   "execution_count": 85,
   "metadata": {},
   "outputs": [],
   "source": [
    "from sklearn.metrics import classification_report"
   ]
  },
  {
   "cell_type": "code",
   "execution_count": 86,
   "metadata": {},
   "outputs": [
    {
     "name": "stdout",
     "output_type": "stream",
     "text": [
      "              precision    recall  f1-score   support\n",
      "\n",
      "           0       0.98      1.00      0.99      1592\n",
      "           1       1.00      0.94      0.97       471\n",
      "\n",
      "    accuracy                           0.99      2063\n",
      "   macro avg       0.99      0.97      0.98      2063\n",
      "weighted avg       0.99      0.99      0.99      2063\n",
      "\n"
     ]
    }
   ],
   "source": [
    "print(classification_report(test_y, RFC_GSCV_model_pred))"
   ]
  },
  {
   "cell_type": "code",
   "execution_count": null,
   "metadata": {},
   "outputs": [],
   "source": []
  }
 ],
 "metadata": {
  "kernelspec": {
   "display_name": "Python 3",
   "language": "python",
   "name": "python3"
  },
  "language_info": {
   "codemirror_mode": {
    "name": "ipython",
    "version": 3
   },
   "file_extension": ".py",
   "mimetype": "text/x-python",
   "name": "python",
   "nbconvert_exporter": "python",
   "pygments_lexer": "ipython3",
   "version": "3.8.5"
  }
 },
 "nbformat": 4,
 "nbformat_minor": 4
}
